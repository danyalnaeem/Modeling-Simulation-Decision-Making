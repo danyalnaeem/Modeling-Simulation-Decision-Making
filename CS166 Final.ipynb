{
 "cells": [
  {
   "cell_type": "code",
   "execution_count": 235,
   "metadata": {},
   "outputs": [],
   "source": [
    "'''Libraries'''\n",
    "import random\n",
    "import numpy as np\n",
    "from copy import deepcopy\n",
    "from math import ceil, floor, sqrt\n",
    "import matplotlib.pyplot as plt\n",
    "from matplotlib import animation\n",
    "import matplotlib.cm as cm\n",
    "%matplotlib inline\n",
    "from random import shuffle\n",
    "from scipy import stats"
   ]
  },
  {
   "cell_type": "markdown",
   "metadata": {},
   "source": [
    "## Crowd Egress Model ##"
   ]
  },
  {
   "cell_type": "code",
   "execution_count": 236,
   "metadata": {},
   "outputs": [],
   "source": [
    "\"\"\" The Crow Egress Class is intialized with all the key parameters \n",
    "\n",
    "people_total is integer value that initializes the total number of people in the room\n",
    "exits is an integer value that indicates the number of exits in the room\n",
    "exit_size is an integer that specifies the width of exit e.g. exit_size = 2 means the exit occupies 2 blocks along the boundary\n",
    "room_size is a tuple giving the width and length of the room \n",
    "room_setup is a 2D array which sets up the grid based on number of columns and rows\n",
    "\n",
    "exit_placement is an empty array that is initialized to store the points of exit later in the code\n",
    "mids is an empty array that is initialized to store the midpoints of the exit locations\n",
    "\n",
    "\"\"\"\n",
    "\n",
    "class Crowd_Egress():\n",
    "  def __init__(self, people_total, exits, exit_size, room_size):\n",
    "    self.people_total = people_total \n",
    "    self.exits = exits\n",
    "    self.exit_size = exit_size\n",
    "    self.room_size = room_size \n",
    "    self.room_setup = [[0 for i in range(room_size[0])] for i in range(room_size[1])]\n",
    "    self.exit_placement = []\n",
    "    self.mids = []\n",
    "    \"\"\"\n",
    "    The initialize function sets up the room based on the specified parameters. \n",
    "  \n",
    "    \"\"\"\n",
    "  def initialize(self):\n",
    "\n",
    "    counter = 0 #This counter keeps track of all the people who need to be populated in the room\n",
    "\n",
    "    \"\"\"\n",
    "    The while loop is implemented to add every person to a unique spot based\n",
    "    on the dimensions of the room.\n",
    "    The conditions in this loop make sure there is no other person at the coordinate already.\n",
    "    \n",
    "    \"\"\"\n",
    "    while counter != self.people_total:\n",
    "      row = random.randint(0,self.room_size[1]-1)\n",
    "      column = random.randint(0,self.room_size[0]-1)\n",
    "\n",
    "      if self.room_setup[row][column] != 1:\n",
    "        self.room_setup[row][column] = 1\n",
    "      \n",
    "        counter+= 1\n",
    "\n",
    "    '''\n",
    "    The following loop runs till the specified no. of exits have been placed on different boundaries of the room.\n",
    "    The 2D room has 4 boundaries: top, bottom, right and left.\n",
    "    1 = top, 2 = right , 3 = bottom , 4 = left\n",
    "    '''\n",
    "    for i in range(self.exits):\n",
    "        \n",
    "      exit_placed = False\n",
    "      while exit_placed == False:\n",
    "            \n",
    "        #An integer generated between 1 and 4 is randomly chosen to select the boundary\n",
    "        boundary = random.randint(1,4)\n",
    "        if boundary == 1 or boundary == 3: #checks for top and bottom \n",
    "          exit_point = random.randint(0,self.room_size[0]-self.exit_size) #makes sure that the exit is placed along the dimension of the width\n",
    "\n",
    "        # A check is placed to see if there is already an exit in place\n",
    "          exit_exists = False\n",
    "          if boundary == 1:\n",
    "            for coordinates in self.exit_placement:\n",
    "              for i in range(exit_point,exit_point+self.exit_size):\n",
    "                if (0,i) == coordinates:\n",
    "                  exit_exists = True\n",
    "                  break\n",
    "              if exit_exists == True:\n",
    "                break\n",
    "            if exit_exists == True:            \n",
    "              continue\n",
    "          else:\n",
    "            for coordinates in self.exit_placement:\n",
    "              for i in range(exit_point,exit_point+self.exit_size):\n",
    "                if (self.room_size[1]-1,i) == coordinates:\n",
    "                  exit_exists = True\n",
    "                  break\n",
    "              if exit_exists == True:\n",
    "                break\n",
    "            if exit_exists == True:            \n",
    "              continue\n",
    "\n",
    "        #As coded above, the right and left boundaries are also assigned with exits\n",
    "        \n",
    "        elif boundary == 2 or boundary == 4:\n",
    "          exit_point = random.randint(0,self.room_size[1]-self.exit_size)\n",
    "          \n",
    "          exit_exists = False\n",
    "          if boundary == 2:\n",
    "            for coordinates in self.exit_placement:\n",
    "              for i in range(exit_point,exit_point+self.exit_size):\n",
    "                if (i,self.room_size[0]-1) == coordinates:\n",
    "                  exit_exists = True\n",
    "                  break\n",
    "              if exit_exists == True:\n",
    "                break\n",
    "            if exit_exists == True:            \n",
    "              continue\n",
    "          else:\n",
    "            for coordinates in self.exit_placement:\n",
    "              for i in range(exit_point,exit_point+self.exit_size):\n",
    "                if (i,0) == coordinates:\n",
    "                  exit_exists = True\n",
    "                  break\n",
    "              if exit_exists == True:\n",
    "                break\n",
    "            if exit_exists == True:            \n",
    "              continue\n",
    "    \n",
    "\n",
    "        #Based on the boundarys set, exits are placed. It is crucial to place exits on the edges of the room. \n",
    "        if boundary == 1:\n",
    "          for i in range(self.exit_size):\n",
    "            self.exit_placement.append((0,exit_point+i))\n",
    "          exit_placed = True  \n",
    "          continue\n",
    "        if boundary == 2:\n",
    "            for i in range(self.exit_size):\n",
    "              self.exit_placement.append((exit_point+i,self.room_size[0]-1))\n",
    "            exit_placed = True  \n",
    "            continue\n",
    "        if boundary == 3:\n",
    "            for i in range(self.exit_size):\n",
    "              self.exit_placement.append((self.room_size[1]-1,exit_point+i))\n",
    "            exit_placed = True\n",
    "            continue\n",
    "        if boundary == 4:\n",
    "            for i in range(self.exit_size):\n",
    "              self.exit_placement.append((exit_point+i,0))\n",
    "            exit_placed = True \n",
    "            continue\n",
    "    \n",
    "    \"\"\"\n",
    "    The coordinates for exit points are stored as midpoints to ensure an easy way out of the room\n",
    "    \n",
    "    \"\"\"\n",
    "\n",
    "    for i in range (0, len(self.exit_placement),self.exit_size):\n",
    "      self.mids.append(np.mean(self.exit_placement[i:i+self.exit_size],axis=0))\n",
    "    \n",
    "    for j in range(len(self.mids)):\n",
    "      if random.random() < 0.5:\n",
    "        self.mids[j][0] = ceil(self.mids[j][0])\n",
    "        self.mids[j][1] = ceil(self.mids[j][1])\n",
    "      else:\n",
    "        self.mids[j][0] = floor(self.mids[j][0])\n",
    "        self.mids[j][1] = floor(self.mids[j][1]) \n",
    "\n",
    "\n",
    "        \n",
    "  def update(self):\n",
    "\n",
    "    #A temporary state of the room is created \n",
    "    temp_state = deepcopy(self.room_setup)\n",
    "\n",
    "    #The location of each person that occupies a space is enlisted\n",
    "    occupied_cell = np.where(np.array(self.room_setup)==1)\n",
    "\n",
    "    \n",
    "\n",
    "    #People who are already placed at exits are removed first\n",
    "    for i in range(len(occupied_cell[0])):\n",
    "      if (occupied_cell[0][i],occupied_cell[1][i]) in self.exit_placement:\n",
    "        temp_state[occupied_cell[0][i]][occupied_cell[1][i]] = 0\n",
    "        self.room_setup[occupied_cell[0][i]][occupied_cell[1][i]] = 0\n",
    "\n",
    "\n",
    "    movements = [] #an array that will store the amount of movement each person needs to do\n",
    "    \n",
    "    \"\"\"\n",
    "    Each person's horizontal and vertical distance from the exit locations are computed to account into a moving cost.\n",
    "    The moving cost is basically an assessment of how feasible it is for the person to move from one point to another\n",
    "    in the next step. The costs adds up to 1 each time a person moves. \n",
    "    \n",
    "    Based on these costs, the movement scenarios are generated by finding out vertical and horizontal distances from the mid\n",
    "    points. Each person's location, distances, the moving costs and the coordinates of the boundary are appended to a list.\n",
    "\n",
    "    \"\"\"\n",
    "    for i in range(len(occupied_cell[0])):\n",
    "      each_person = []\n",
    "      for x in self.mids:\n",
    "        \n",
    "        \n",
    "        moving_cost = 0\n",
    "\n",
    "        if occupied_cell[0][i] - x[0] < 0:\n",
    "          vertical_step = 1\n",
    "        else:\n",
    "          vertical_step = -1 \n",
    "\n",
    "        if occupied_cell[1][i] - x[1] < 0:\n",
    "          horizontal_step = 1\n",
    "        else:\n",
    "          horizontal_step = -1     \n",
    "\n",
    "        #The cost of moving vertically\n",
    "        for j in range(occupied_cell[0][i],int(x[0]),vertical_step):\n",
    "          if vertical_step == 1:\n",
    "            if self.room_setup[j+1][occupied_cell[1][i]] == 1:\n",
    "              moving_cost += 1\n",
    "          else:\n",
    "              self.room_setup[j-1][occupied_cell[1][i]] == 1\n",
    "              moving_cost += 1\n",
    "\n",
    "        #The cost of moving horizontally\n",
    "        for j in range(occupied_cell[1][i],int(x[1]),horizontal_step):\n",
    "          if horizontal_step == 1:\n",
    "            if self.room_setup[int(x[0])][j+1] == 1:\n",
    "              moving_cost += 1   \n",
    "          else:\n",
    "            if self.room_setup[int(x[0])][j-1] == 1:\n",
    "              moving_cost += 1            \n",
    "        \n",
    "        each_person.append((occupied_cell[0][i],occupied_cell[1][i], abs(occupied_cell[0][i]-x[0])+\n",
    "                                                    abs(occupied_cell[1][i]-x[1])+\n",
    "                                                    moving_cost,(x[0],x[1])))\n",
    "      movements.append(each_person)\n",
    "        \n",
    "\n",
    "      #The movements are then sorted and the direction in which the person moves is determined. \n",
    "      directions = []\n",
    "      for i in range(len(movements)):\n",
    "        directions.append(sorted(movements[i])[0])\n",
    "\n",
    "\n",
    "              \n",
    "    \n",
    "\n",
    "    ideal_steps = [] #keeps a track of best possible movement for a person in a given step\n",
    "\n",
    "    for i in directions:\n",
    "      #The following conditions are scenrios to see which boundary to choose when heading to an exit\n",
    "      #Boundary 1\n",
    "      if i[3][0] == 0:\n",
    "        #To see if moving up/down is psossible\n",
    "        if i[0]-1 >= 0:\n",
    "          if self.room_setup[i[0]-1][i[1]] == 0:\n",
    "            ideal_steps.append(((i[0],i[1]),(i[0]-1,i[1])))\n",
    "        \n",
    "        #movement on the horizontal axis is checked\n",
    "        \n",
    "        #left movement\n",
    "        elif i[1]-i[3][1] > 0:\n",
    "          if self.room_setup[i[0]][i[1]-1] == 0:\n",
    "            ideal_steps.append(((i[0],i[1]),(i[0],i[1]-1)))\n",
    "          \n",
    "        #right movement\n",
    "        elif i[1]-i[3][1] < 0:\n",
    "          if self.room_setup[i[0]][i[1]+1] == 0:\n",
    "            ideal_steps.append(((i[0],i[1]),(i[0],i[1]+1)))\n",
    "\n",
    "        #No movement is required if the exit is on the same axis as the person\n",
    "          \n",
    "\n",
    "      #Boundary 3\n",
    "      elif i[3][0] == self.room_size[1]-1:\n",
    "      #To see if moving up/down is psossible\n",
    "        if i[0]+1 <= self.room_size[1]-1:\n",
    "          if self.room_setup[i[0]+1][i[1]] == 0:\n",
    "            ideal_steps.append(((i[0],i[1]),(i[0]+1,i[1])))\n",
    "        \n",
    "        #movement on the horizontal axis is checked\n",
    "        \n",
    "        #left movement\n",
    "        elif i[1]-i[3][1] > 0:\n",
    "          if self.room_setup[i[0]][i[1]-1] == 0:\n",
    "            ideal_steps.append(((i[0],i[1]),(i[0],i[1]-1)))\n",
    "          \n",
    "        #right movement\n",
    "        elif i[1]-i[3][1] < 0:\n",
    "          if self.room_setup[i[0]][i[1]+1] == 0:\n",
    "            ideal_steps.append(((i[0],i[1]),(i[0],i[1]+1)))\n",
    "\n",
    "      #boundary 4\n",
    "      elif i[3][1] == 0:\n",
    "        #To see if moving left/right is possible\n",
    "        if i[1]-1 >= 0:\n",
    "          if self.room_setup[i[0]][i[1]-1] == 0:\n",
    "            ideal_steps.append(((i[0],i[1]),(i[0],i[1]-1)))\n",
    "        \n",
    "        #movement on the vertical axis is checked\n",
    "        \n",
    "        #move up\n",
    "        elif i[0]-i[3][0] > 0:\n",
    "          if self.room_setup[i[0]-1][i[1]] == 0:\n",
    "            ideal_steps.append(((i[0],i[1]),(i[0]-1,i[1])))\n",
    "          \n",
    "        #move down\n",
    "        elif i[0]-i[3][0] < 0:\n",
    "          if self.room_setup[i[0]+1][i[1]] == 0:\n",
    "            ideal_steps.append(((i[0],i[1]),(i[0]+1,i[1])))\n",
    "\n",
    "        \n",
    "\n",
    "      #boundary 2  \n",
    "      elif i[3][1] == self.room_size[0]-1:\n",
    "        #To see if moving left/right is possible\n",
    "        if i[1]+1 <= self.room_size[0]-1:\n",
    "          if self.room_setup[i[0]][i[1]+1] == 0:\n",
    "            ideal_steps.append(((i[0],i[1]),(i[0],i[1]+1)))\n",
    "        \n",
    "        #movement on the vertical axis is checked\n",
    "        \n",
    "        #move up\n",
    "        elif i[0]-i[3][0] > 0:\n",
    "          if self.room_setup[i[0]-1][i[1]] == 0:\n",
    "            ideal_steps.append(((i[0],i[1]),(i[0]-1,i[1])))\n",
    "          \n",
    "        #move down\n",
    "        elif i[0]-i[3][0] < 0:\n",
    "          if self.room_setup[i[0]+1][i[1]] == 0:\n",
    "            ideal_steps.append(((i[0],i[1]),(i[0]+1,i[1])))\n",
    "    \n",
    "    #In case of similar optimal movements, one person is chosen at random to go. \n",
    "    optimal = [i[1] for i in ideal_steps]\n",
    "    unique = set(optimal)\n",
    "    indices = []\n",
    "    for i in unique:\n",
    "      index = []\n",
    "      for j in range(len(optimal)):\n",
    "        if optimal[j] == i:\n",
    "          index.append(j)\n",
    "      indices.append(index)\n",
    "    \n",
    "    #The duplicate indices are randomly gotten rid of\n",
    "    for i in range(len(indices)):\n",
    "      while(len(indices[i])>1):\n",
    "        indices[i].remove(random.choice(indices[i]))\n",
    "    #The next state is updated\n",
    "    for i in indices:\n",
    "      temp_state[ideal_steps[i[0]][0][0]][ideal_steps[i[0]][0][1]] = 0\n",
    "      temp_state[ideal_steps[i[0]][1][0]][ideal_steps[i[0]][1][1]] = 1\n",
    "\n",
    "    self.room_setup = deepcopy(temp_state)\n",
    "\n",
    "    \n",
    "\n",
    "\n",
    "\n",
    "\n",
    "\n",
    "\n",
    "\n",
    "\n",
    "\n"
   ]
  },
  {
   "cell_type": "code",
   "execution_count": 237,
   "metadata": {},
   "outputs": [
    {
     "data": {
      "image/png": "[encoded data removed]",
      "text/plain": [
       "<Figure size 432x288 with 1 Axes>"
      ]
     },
     "metadata": {
      "needs_background": "light"
     },
     "output_type": "display_data"
    },
    {
     "data": {
      "image/png": "[encoded data removed]",
      "text/plain": [
       "<Figure size 432x288 with 1 Axes>"
      ]
     },
     "metadata": {
      "needs_background": "light"
     },
     "output_type": "display_data"
    },
    {
     "data": {
      "image/png": "[encoded data removed]",
      "text/plain": [
       "<Figure size 432x288 with 1 Axes>"
      ]
     },
     "metadata": {
      "needs_background": "light"
     },
     "output_type": "display_data"
    },
    {
     "data": {
      "image/png": "[encoded data removed]",
      "text/plain": [
       "<Figure size 432x288 with 1 Axes>"
      ]
     },
     "metadata": {
      "needs_background": "light"
     },
     "output_type": "display_data"
    },
    {
     "data": {
      "image/png": "[encoded data removed]",
      "text/plain": [
       "<Figure size 432x288 with 1 Axes>"
      ]
     },
     "metadata": {
      "needs_background": "light"
     },
     "output_type": "display_data"
    },
    {
     "data": {
      "image/png": "[encoded data removed]",
      "text/plain": [
       "<Figure size 432x288 with 1 Axes>"
      ]
     },
     "metadata": {
      "needs_background": "light"
     },
     "output_type": "display_data"
    },
    {
     "data": {
      "image/png": "[encoded data removed]",
      "text/plain": [
       "<Figure size 432x288 with 1 Axes>"
      ]
     },
     "metadata": {
      "needs_background": "light"
     },
     "output_type": "display_data"
    },
    {
     "data": {
      "image/png": "[encoded data removed]",
      "text/plain": [
       "<Figure size 432x288 with 1 Axes>"
      ]
     },
     "metadata": {
      "needs_background": "light"
     },
     "output_type": "display_data"
    },
    {
     "data": {
      "image/png": "[encoded data removed]",
      "text/plain": [
       "<Figure size 432x288 with 1 Axes>"
      ]
     },
     "metadata": {
      "needs_background": "light"
     },
     "output_type": "display_data"
    },
    {
     "data": {
      "image/png": "[encoded data removed]",
      "text/plain": [
       "<Figure size 432x288 with 1 Axes>"
      ]
     },
     "metadata": {
      "needs_background": "light"
     },
     "output_type": "display_data"
    },
    {
     "data": {
      "image/png": "[encoded data removed]",
      "text/plain": [
       "<Figure size 432x288 with 1 Axes>"
      ]
     },
     "metadata": {
      "needs_background": "light"
     },
     "output_type": "display_data"
    },
    {
     "data": {
      "image/png": "[encoded data removed]",
      "text/plain": [
       "<Figure size 432x288 with 1 Axes>"
      ]
     },
     "metadata": {
      "needs_background": "light"
     },
     "output_type": "display_data"
    },
    {
     "data": {
      "image/png": "[encoded data removed]",
      "text/plain": [
       "<Figure size 432x288 with 1 Axes>"
      ]
     },
     "metadata": {
      "needs_background": "light"
     },
     "output_type": "display_data"
    },
    {
     "data": {
      "image/png": "[encoded data removed]",
      "text/plain": [
       "<Figure size 432x288 with 1 Axes>"
      ]
     },
     "metadata": {
      "needs_background": "light"
     },
     "output_type": "display_data"
    },
    {
     "data": {
      "image/png": "[encoded data removed]",
      "text/plain": [
       "<Figure size 432x288 with 1 Axes>"
      ]
     },
     "metadata": {
      "needs_background": "light"
     },
     "output_type": "display_data"
    },
    {
     "data": {
      "image/png": "[encoded data removed]",
      "text/plain": [
       "<Figure size 432x288 with 1 Axes>"
      ]
     },
     "metadata": {
      "needs_background": "light"
     },
     "output_type": "display_data"
    },
    {
     "data": {
      "image/png": "[encoded data removed]",
      "text/plain": [
       "<Figure size 432x288 with 1 Axes>"
      ]
     },
     "metadata": {
      "needs_background": "light"
     },
     "output_type": "display_data"
    },
    {
     "data": {
      "image/png": "[encoded data removed]",
      "text/plain": [
       "<Figure size 432x288 with 1 Axes>"
      ]
     },
     "metadata": {
      "needs_background": "light"
     },
     "output_type": "display_data"
    },
    {
     "data": {
      "image/png": "[encoded data removed]",
      "text/plain": [
       "<Figure size 432x288 with 1 Axes>"
      ]
     },
     "metadata": {
      "needs_background": "light"
     },
     "output_type": "display_data"
    },
    {
     "data": {
      "image/png": "[encoded data removed]",
      "text/plain": [
       "<Figure size 432x288 with 1 Axes>"
      ]
     },
     "metadata": {
      "needs_background": "light"
     },
     "output_type": "display_data"
    },
    {
     "data": {
      "image/png": "[encoded data removed]",
      "text/plain": [
       "<Figure size 432x288 with 1 Axes>"
      ]
     },
     "metadata": {
      "needs_background": "light"
     },
     "output_type": "display_data"
    },
    {
     "data": {
      "image/png": "[encoded data removed]",
      "text/plain": [
       "<Figure size 432x288 with 1 Axes>"
      ]
     },
     "metadata": {
      "needs_background": "light"
     },
     "output_type": "display_data"
    },
    {
     "data": {
      "image/png": "[encoded data removed]",
      "text/plain": [
       "<Figure size 432x288 with 1 Axes>"
      ]
     },
     "metadata": {
      "needs_background": "light"
     },
     "output_type": "display_data"
    },
    {
     "data": {
      "image/png": "[encoded data removed]",
      "text/plain": [
       "<Figure size 432x288 with 1 Axes>"
      ]
     },
     "metadata": {
      "needs_background": "light"
     },
     "output_type": "display_data"
    },
    {
     "data": {
      "image/png": "[encoded data removed]",
      "text/plain": [
       "<Figure size 432x288 with 1 Axes>"
      ]
     },
     "metadata": {
      "needs_background": "light"
     },
     "output_type": "display_data"
    },
    {
     "data": {
      "image/png": "[encoded data removed]",
      "text/plain": [
       "<Figure size 432x288 with 1 Axes>"
      ]
     },
     "metadata": {
      "needs_background": "light"
     },
     "output_type": "display_data"
    },
    {
     "data": {
      "image/png": "[encoded data removed]",
      "text/plain": [
       "<Figure size 432x288 with 1 Axes>"
      ]
     },
     "metadata": {
      "needs_background": "light"
     },
     "output_type": "display_data"
    },
    {
     "data": {
      "image/png": "[encoded data removed]",
      "text/plain": [
       "<Figure size 432x288 with 1 Axes>"
      ]
     },
     "metadata": {
      "needs_background": "light"
     },
     "output_type": "display_data"
    },
    {
     "data": {
      "image/png": "[encoded data removed]",
      "text/plain": [
       "<Figure size 432x288 with 1 Axes>"
      ]
     },
     "metadata": {
      "needs_background": "light"
     },
     "output_type": "display_data"
    },
    {
     "data": {
      "image/png": "[encoded data removed]",
      "text/plain": [
       "<Figure size 432x288 with 1 Axes>"
      ]
     },
     "metadata": {
      "needs_background": "light"
     },
     "output_type": "display_data"
    },
    {
     "data": {
      "image/png": "[encoded data removed]",
      "text/plain": [
       "<Figure size 432x288 with 1 Axes>"
      ]
     },
     "metadata": {
      "needs_background": "light"
     },
     "output_type": "display_data"
    },
    {
     "data": {
      "image/png": "[encoded data removed]",
      "text/plain": [
       "<Figure size 432x288 with 1 Axes>"
      ]
     },
     "metadata": {
      "needs_background": "light"
     },
     "output_type": "display_data"
    },
    {
     "data": {
      "image/png": "[encoded data removed]",
      "text/plain": [
       "<Figure size 432x288 with 1 Axes>"
      ]
     },
     "metadata": {
      "needs_background": "light"
     },
     "output_type": "display_data"
    },
    {
     "data": {
      "image/png": "[encoded data removed]",
      "text/plain": [
       "<Figure size 432x288 with 1 Axes>"
      ]
     },
     "metadata": {
      "needs_background": "light"
     },
     "output_type": "display_data"
    },
    {
     "data": {
      "image/png": "[encoded data removed]",
      "text/plain": [
       "<Figure size 432x288 with 1 Axes>"
      ]
     },
     "metadata": {
      "needs_background": "light"
     },
     "output_type": "display_data"
    },
    {
     "data": {
      "image/png": "[encoded data removed]",
      "text/plain": [
       "<Figure size 432x288 with 1 Axes>"
      ]
     },
     "metadata": {
      "needs_background": "light"
     },
     "output_type": "display_data"
    },
    {
     "data": {
      "image/png": "[encoded data removed]",
      "text/plain": [
       "<Figure size 432x288 with 1 Axes>"
      ]
     },
     "metadata": {
      "needs_background": "light"
     },
     "output_type": "display_data"
    },
    {
     "data": {
      "image/png": "[encoded data removed]",
      "text/plain": [
       "<Figure size 432x288 with 1 Axes>"
      ]
     },
     "metadata": {
      "needs_background": "light"
     },
     "output_type": "display_data"
    },
    {
     "data": {
      "image/png": "[encoded data removed]",
      "text/plain": [
       "<Figure size 432x288 with 1 Axes>"
      ]
     },
     "metadata": {
      "needs_background": "light"
     },
     "output_type": "display_data"
    }
   ],
   "source": [
    "t = Crowd_Egress(25,3,1,(10,10))\n",
    "t.initialize()\n",
    "\n",
    "j = 0\n",
    "while np.count_nonzero(t.room_setup) != 0:\n",
    "    j += 1\n",
    "    if j % 10 == 0:\n",
    "        plt.imshow(t.room_setup, cmap=\"Blues\")\n",
    "        t.update()\n",
    "        plt.show()\n",
    "plt.imshow(t.room_setup, cmap=\"Blues\")\n",
    "t.room_setup\n",
    "plt.show()"
   ]
  },
  {
   "cell_type": "markdown",
   "metadata": {},
   "source": [
    "## Different Number of Exits ##"
   ]
  },
  {
   "cell_type": "markdown",
   "metadata": {},
   "source": [
    "### Histogram ###"
   ]
  },
  {
   "cell_type": "code",
   "execution_count": 136,
   "metadata": {},
   "outputs": [
    {
     "data": {
      "text/plain": [
       "Text(0, 0.5, 'Frequency')"
      ]
     },
     "execution_count": 136,
     "metadata": {},
     "output_type": "execute_result"
    },
    {
     "data": {
      "image/png": "[encoded data removed]",
      "text/plain": [
       "<Figure size 432x288 with 1 Axes>"
      ]
     },
     "metadata": {
      "needs_background": "light"
     },
     "output_type": "display_data"
    }
   ],
   "source": [
    "\"\"\"\n",
    "This simulation is a test of different number of exits impact the time it \n",
    "takes for people to evacuate the room.\n",
    "The number of exits are varied from 1 to 20 for a scenrio of 30 people in a 10x10 room size\n",
    "where the size of exit is 1 coordinate. \n",
    "\n",
    "Each step is counted as one interval in this scenario. \n",
    "\n",
    "\"\"\"\n",
    "\n",
    "multi_exits = [e for e in range(1,21)]\n",
    "counts = []\n",
    "for i in range(1000):\n",
    "  for m in multi_exits:\n",
    "    c = 0\n",
    "    exit_test = Crowd_Egress(30,m,1,(10,10))\n",
    "    exit_test.initialize()\n",
    "    while np.count_nonzero(exit_test.room_setup) != 0:\n",
    "      exit_test.update()\n",
    "      c+=1\n",
    "    counts.append(c)\n",
    "\n",
    "#number of bins is a square root of the number of data points rounded up\n",
    "plt.hist(counts, bins = int(sqrt(len(counts))), color = \"red\")\n",
    "plt.title(\"Impact of number of exits on evacuation time\")\n",
    "plt.ylabel(\"Frequency\")"
   ]
  },
  {
   "cell_type": "markdown",
   "metadata": {},
   "source": [
    "### Confidence Intervals and Descriptive Stats###"
   ]
  },
  {
   "cell_type": "code",
   "execution_count": 234,
   "metadata": {},
   "outputs": [
    {
     "name": "stdout",
     "output_type": "stream",
     "text": [
      "CI: (13.478059897258296, 13.564210102741702)\n"
     ]
    },
    {
     "data": {
      "text/plain": [
       "DescribeResult(nobs=200000, minmax=(4, 63), mean=13.521135, variance=96.60090631630658, skewness=2.362609825594367, kurtosis=5.845180156617454)"
      ]
     },
     "execution_count": 234,
     "metadata": {},
     "output_type": "execute_result"
    }
   ],
   "source": [
    "print(\"CI:\", stats.t.interval(0.95, len(counts)-1, loc=np.mean(counts), scale=stats.sem(counts)))\n",
    "stats.describe(counts)\n",
    "\n"
   ]
  },
  {
   "cell_type": "markdown",
   "metadata": {},
   "source": [
    "### Plot ###"
   ]
  },
  {
   "cell_type": "code",
   "execution_count": 135,
   "metadata": {},
   "outputs": [
    {
     "data": {
      "text/plain": [
       "Text(0, 0.5, 'Time Taken to Evacuate')"
      ]
     },
     "execution_count": 135,
     "metadata": {},
     "output_type": "execute_result"
    },
    {
     "data": {
      "image/png": "[encoded data removed]",
      "text/plain": [
       "<Figure size 432x288 with 1 Axes>"
      ]
     },
     "metadata": {
      "needs_background": "light"
     },
     "output_type": "display_data"
    }
   ],
   "source": [
    "multi_exits = [e for e in range(1,21)]\n",
    "counts = []\n",
    "for i in range(1):\n",
    "  for m in multi_exits:\n",
    "    c = 0\n",
    "    exit_test = Crowd_Egress(30,m,1,(10,10))\n",
    "    exit_test.initialize()\n",
    "    while np.count_nonzero(exit_test.room_setup) != 0:\n",
    "      exit_test.update()\n",
    "      c+=1\n",
    "    counts.append(c)\n",
    "\n",
    "#number of bins is a square root of the number of data points rounded up\n",
    "plt.plot(multi_exits,counts, color = \"red\")\n",
    "plt.title(\"Impact of number of exits on evacuation time\")\n",
    "plt.xlabel(\"No. of Exits\")\n",
    "plt.ylabel(\"Time Taken to Evacuate\")"
   ]
  },
  {
   "cell_type": "markdown",
   "metadata": {},
   "source": [
    "## Different Number of People in the Room ##"
   ]
  },
  {
   "cell_type": "markdown",
   "metadata": {},
   "source": [
    "### Histogram ###"
   ]
  },
  {
   "cell_type": "code",
   "execution_count": 239,
   "metadata": {},
   "outputs": [
    {
     "data": {
      "text/plain": [
       "Text(0, 0.5, 'Frequency')"
      ]
     },
     "execution_count": 239,
     "metadata": {},
     "output_type": "execute_result"
    },
    {
     "data": {
      "image/png": "[encoded data removed]",
      "text/plain": [
       "<Figure size 432x288 with 1 Axes>"
      ]
     },
     "metadata": {
      "needs_background": "light"
     },
     "output_type": "display_data"
    }
   ],
   "source": [
    "\"\"\"\n",
    "This simulation is a test of different number of people impact the time it \n",
    "takes for people to evacuate the room.\n",
    "The number of people are varied from 1 to 100 with a step size of 5 for a scenrio of 3 exits in a 15x15 room size\n",
    "where the size of exit is 1 coordinate. \n",
    "\n",
    "\"\"\"\n",
    "peeps = [p for p in range(1,101,5)]\n",
    "counts_p = []\n",
    "for i in range(1000):\n",
    "  for n in peeps:\n",
    "    c = 0\n",
    "    people_test = Crowd_Egress(n,5,1,(15,15))\n",
    "    people_test.initialize()\n",
    "    while np.count_nonzero(people_test.room_setup) != 0:\n",
    "      people_test.update()\n",
    "      c+=1\n",
    "    counts_p.append(c)\n",
    "\n",
    "plt.hist(counts_p, bins = int(sqrt(len(counts_p))), color = \"orange\")\n",
    "plt.title(\"Impact of number of people in the room on evacuation time\")\n",
    "plt.ylabel(\"Frequency\")"
   ]
  },
  {
   "cell_type": "markdown",
   "metadata": {},
   "source": [
    "### Confidence Intervals and Descriptive Stats ### "
   ]
  },
  {
   "cell_type": "code",
   "execution_count": 240,
   "metadata": {},
   "outputs": [
    {
     "name": "stdout",
     "output_type": "stream",
     "text": [
      "CI: (27.041084986570976, 27.433015013429024)\n"
     ]
    },
    {
     "data": {
      "text/plain": [
       "DescribeResult(nobs=20000, minmax=(1, 129), mean=27.23705, variance=199.91175288514424, skewness=0.8281919125432498, kurtosis=0.8031407723844088)"
      ]
     },
     "execution_count": 240,
     "metadata": {},
     "output_type": "execute_result"
    }
   ],
   "source": [
    "print (\"CI:\", stats.t.interval(0.95, len(counts_p)-1, loc=np.mean(counts_p), scale=stats.sem(counts_p)))\n",
    "stats.describe(counts_p)"
   ]
  },
  {
   "cell_type": "markdown",
   "metadata": {},
   "source": [
    "### Plot ### "
   ]
  },
  {
   "cell_type": "code",
   "execution_count": 146,
   "metadata": {},
   "outputs": [
    {
     "data": {
      "text/plain": [
       "Text(0, 0.5, 'Time Taken to Evacuate')"
      ]
     },
     "execution_count": 146,
     "metadata": {},
     "output_type": "execute_result"
    },
    {
     "data": {
      "image/png": "[encoded data removed]",
      "text/plain": [
       "<Figure size 432x288 with 1 Axes>"
      ]
     },
     "metadata": {
      "needs_background": "light"
     },
     "output_type": "display_data"
    }
   ],
   "source": [
    "peeps = [p for p in range(1,100)]\n",
    "counts_p = []\n",
    "for i in range(1):\n",
    "  for n in peeps:\n",
    "    c = 0\n",
    "    people_test = Crowd_Egress(n,5,1,(15,15))\n",
    "    people_test.initialize()\n",
    "    while np.count_nonzero(people_test.room_setup) != 0:\n",
    "      people_test.update()\n",
    "      c+=1\n",
    "    counts_p.append(c)\n",
    "\n",
    "plt.plot(peeps,counts_p, color = \"orange\")\n",
    "plt.title(\"Impact of number of people in the room on evacuation time\")\n",
    "plt.xlabel(\"No. of People\")\n",
    "plt.ylabel(\"Time Taken to Evacuate\")"
   ]
  },
  {
   "cell_type": "markdown",
   "metadata": {},
   "source": [
    "## Different Room Dimensions ## "
   ]
  },
  {
   "cell_type": "markdown",
   "metadata": {},
   "source": [
    "### Histogram ### "
   ]
  },
  {
   "cell_type": "code",
   "execution_count": 241,
   "metadata": {},
   "outputs": [
    {
     "data": {
      "text/plain": [
       "Text(0, 0.5, 'Frequency')"
      ]
     },
     "execution_count": 241,
     "metadata": {},
     "output_type": "execute_result"
    },
    {
     "data": {
      "image/png": "[encoded data removed]",
      "text/plain": [
       "<Figure size 432x288 with 1 Axes>"
      ]
     },
     "metadata": {
      "needs_background": "light"
     },
     "output_type": "display_data"
    }
   ],
   "source": [
    "\"\"\"\n",
    "This simulation is a test of different how room sizes impact the time it \n",
    "takes for people to evacuate the room.\n",
    "The dimensions of a square room are varied from 8x8 to 40x40 grid for a scenario of 2 exits\n",
    "where the size of exit is 2 coordinates. \n",
    "\n",
    "\"\"\"\n",
    "dims = [d for d in range(8,41)]\n",
    "counts_d = []\n",
    "for i in range(1000):\n",
    "  for dd in dims:\n",
    "    c = 0\n",
    "    dim_test = Crowd_Egress(50,2,2,(dd,dd))\n",
    "    dim_test.initialize()\n",
    "    while np.count_nonzero(dim_test.room_setup) != 0:\n",
    "      dim_test.update()\n",
    "      c+=1\n",
    "    counts_d.append(c)\n",
    "\n",
    "plt.hist(counts_d, bins = int(sqrt(len(counts_d))), color = \"purple\")\n",
    "plt.title(\"Impact of Room Size on Evacuation Time\")\n",
    "plt.ylabel(\"Frequency\")"
   ]
  },
  {
   "cell_type": "markdown",
   "metadata": {},
   "source": [
    "### Confidence Intervals and Descriptive Stats ###"
   ]
  },
  {
   "cell_type": "code",
   "execution_count": 242,
   "metadata": {},
   "outputs": [
    {
     "name": "stdout",
     "output_type": "stream",
     "text": [
      "CI: (49.67825404836171, 49.97677625466859)\n"
     ]
    },
    {
     "data": {
      "text/plain": [
       "DescribeResult(nobs=33000, minmax=(17, 108), mean=49.82751515151515, variance=191.37235116950285, skewness=0.7673997554900981, kurtosis=0.653136562690301)"
      ]
     },
     "execution_count": 242,
     "metadata": {},
     "output_type": "execute_result"
    }
   ],
   "source": [
    "print (\"CI:\", stats.t.interval(0.95, len(counts_d)-1, loc=np.mean(counts_d), scale=stats.sem(counts_d)))\n",
    "stats.describe(counts_d)"
   ]
  },
  {
   "cell_type": "markdown",
   "metadata": {},
   "source": [
    "### Plot ###"
   ]
  },
  {
   "cell_type": "code",
   "execution_count": 164,
   "metadata": {},
   "outputs": [
    {
     "data": {
      "text/plain": [
       "Text(0, 0.5, 'Time Taken to Evacuate')"
      ]
     },
     "execution_count": 164,
     "metadata": {},
     "output_type": "execute_result"
    },
    {
     "data": {
      "image/png": "[encoded data removed]",
      "text/plain": [
       "<Figure size 432x288 with 1 Axes>"
      ]
     },
     "metadata": {
      "needs_background": "light"
     },
     "output_type": "display_data"
    }
   ],
   "source": [
    "dims = [d for d in range(8,41)]\n",
    "counts_d = []\n",
    "for i in range(1):\n",
    "  for dd in dims:\n",
    "    c = 0\n",
    "    dim_test = Crowd_Egress(50,2,2,(dd,dd))\n",
    "    dim_test.initialize()\n",
    "    while np.count_nonzero(dim_test.room_setup) != 0:\n",
    "      dim_test.update()\n",
    "      c+=1\n",
    "    counts_d.append(c)\n",
    "plt.plot(dims,counts_d, color = \"purple\")\n",
    "plt.title(\"Impact of room size on evacuation time\")\n",
    "plt.xlabel(\"Size of the room\")\n",
    "plt.ylabel(\"Time Taken to Evacuate\")"
   ]
  },
  {
   "cell_type": "markdown",
   "metadata": {},
   "source": [
    "## Effect of Exit Size ##"
   ]
  },
  {
   "cell_type": "markdown",
   "metadata": {},
   "source": [
    "### Histogram ### "
   ]
  },
  {
   "cell_type": "code",
   "execution_count": 247,
   "metadata": {},
   "outputs": [
    {
     "data": {
      "text/plain": [
       "Text(0, 0.5, 'Frequency')"
      ]
     },
     "execution_count": 247,
     "metadata": {},
     "output_type": "execute_result"
    },
    {
     "data": {
      "image/png": "[encoded data removed]",
      "text/plain": [
       "<Figure size 432x288 with 1 Axes>"
      ]
     },
     "metadata": {
      "needs_background": "light"
     },
     "output_type": "display_data"
    }
   ],
   "source": [
    "\"\"\"\n",
    "This simulation is a test of different number of exits impact the time it \n",
    "takes for people to evacuate the room.\n",
    "The number of exits are varied from 1 to 20 for a scenrio of 30 people in a 10x10 room size\n",
    "where the size of exit is 1 coordinate. \n",
    "\n",
    "Each step is counted as one interval in this scenario. \n",
    "\n",
    "\"\"\"\n",
    "\n",
    "sizes = [e for e in range(1,5)]\n",
    "counts_es = []\n",
    "for i in range(1000):\n",
    "  for a in sizes:\n",
    "    c = 0\n",
    "    exitsize_test = Crowd_Egress(30,2,a,(10,10))\n",
    "    exitsize_test.initialize()\n",
    "    while np.count_nonzero(exitsize_test.room_setup) != 0:\n",
    "      exitsize_test.update()\n",
    "      c+=1\n",
    "    counts_es.append(c)\n",
    "\n",
    "#number of bins is a square root of the number of data points rounded up\n",
    "plt.hist(counts_es, bins = int(sqrt(len(counts_es))), color = \"red\")\n",
    "plt.title(\"Impact of size of exits on evacuation time\")\n",
    "plt.ylabel(\"Frequency\")"
   ]
  },
  {
   "cell_type": "code",
   "execution_count": null,
   "metadata": {},
   "outputs": [],
   "source": []
  },
  {
   "cell_type": "markdown",
   "metadata": {},
   "source": [
    "### Confidence Intervals and Descriptive Stats ###"
   ]
  },
  {
   "cell_type": "code",
   "execution_count": 248,
   "metadata": {},
   "outputs": [
    {
     "name": "stdout",
     "output_type": "stream",
     "text": [
      "CI: (23.31789260257624, 23.77610739742376)\n"
     ]
    },
    {
     "data": {
      "text/plain": [
       "DescribeResult(nobs=4000, minmax=(10, 56), mean=23.547, variance=54.623446861715436, skewness=1.0004419233870525, kurtosis=1.1852380065288282)"
      ]
     },
     "execution_count": 248,
     "metadata": {},
     "output_type": "execute_result"
    }
   ],
   "source": [
    "print (\"CI:\", stats.t.interval(0.95, len(counts_es)-1, loc=np.mean(counts_es), scale=stats.sem(counts_es)))\n",
    "stats.describe(counts_es)"
   ]
  },
  {
   "cell_type": "markdown",
   "metadata": {},
   "source": [
    "### Plot ###"
   ]
  },
  {
   "cell_type": "code",
   "execution_count": 158,
   "metadata": {},
   "outputs": [
    {
     "data": {
      "text/plain": [
       "Text(0, 0.5, 'Time Taken to Evacuate')"
      ]
     },
     "execution_count": 158,
     "metadata": {},
     "output_type": "execute_result"
    },
    {
     "data": {
      "image/png": "[encoded data removed]",
      "text/plain": [
       "<Figure size 432x288 with 1 Axes>"
      ]
     },
     "metadata": {
      "needs_background": "light"
     },
     "output_type": "display_data"
    }
   ],
   "source": [
    "sizes = [e for e in range(1,50)]\n",
    "counts_es = []\n",
    "for i in range(1):\n",
    "  for a in sizes:\n",
    "    c = 0\n",
    "    exitsize_test = Crowd_Egress(30,2,a,(100,100))\n",
    "    exitsize_test.initialize()\n",
    "    while np.count_nonzero(exitsize_test.room_setup) != 0:\n",
    "      exitsize_test.update()\n",
    "      c+=1\n",
    "    counts_es.append(c)\n",
    "plt.plot(sizes,counts_es, color = \"red\")\n",
    "plt.title(\"Impact of Exit size on Evacuation time\")\n",
    "plt.xlabel(\"Size of Exits\")\n",
    "plt.ylabel(\"Time Taken to Evacuate\")"
   ]
  },
  {
   "cell_type": "markdown",
   "metadata": {},
   "source": [
    "### Histograms For Different Numbers of people in the room and evacuation time ###"
   ]
  },
  {
   "cell_type": "code",
   "execution_count": 186,
   "metadata": {},
   "outputs": [],
   "source": [
    "#30 people \n",
    "\n",
    "times=[]\n",
    "for i in range(1000):\n",
    "    c = 0\n",
    "    people_test = Crowd_Egress(30,2,1,(10,10))\n",
    "    people_test.initialize()\n",
    "    while np.count_nonzero(people_test.room_setup) != 0:\n",
    "      people_test.update()\n",
    "      c+=1\n",
    "    times.append(c)\n",
    "\n"
   ]
  },
  {
   "cell_type": "code",
   "execution_count": 200,
   "metadata": {},
   "outputs": [],
   "source": [
    "#50 people\n",
    "times1=[]\n",
    "for i in range(1000):\n",
    "    c = 0\n",
    "    people_test = Crowd_Egress(50,2,1,(10,10))\n",
    "    people_test.initialize()\n",
    "    while np.count_nonzero(people_test.room_setup) != 0:\n",
    "      people_test.update()\n",
    "      c+=1\n",
    "    times1.append(c)\n"
   ]
  },
  {
   "cell_type": "code",
   "execution_count": 201,
   "metadata": {},
   "outputs": [],
   "source": [
    "#70 people\n",
    "times2=[]\n",
    "for i in range(1000):\n",
    "    c = 0\n",
    "    people_test = Crowd_Egress(70,2,1,(10,10))\n",
    "    people_test.initialize()\n",
    "    while np.count_nonzero(people_test.room_setup) != 0:\n",
    "      people_test.update()\n",
    "      c+=1\n",
    "    times2.append(c)"
   ]
  },
  {
   "cell_type": "code",
   "execution_count": 202,
   "metadata": {},
   "outputs": [
    {
     "data": {
      "text/plain": [
       "<matplotlib.legend.Legend at 0x1a1b532a50>"
      ]
     },
     "execution_count": 202,
     "metadata": {},
     "output_type": "execute_result"
    },
    {
     "data": {
      "image/png": "[encoded data removed]",
      "text/plain": [
       "<Figure size 432x288 with 1 Axes>"
      ]
     },
     "metadata": {
      "needs_background": "light"
     },
     "output_type": "display_data"
    }
   ],
   "source": [
    "d = [times, times1, times2]\n",
    "plt.hist(d, color = [\"orange\",\"blue\",\"red\"])\n",
    "plt.title(\"Impact of number of people in the room on evacuation time\")\n",
    "plt.ylabel(\"Frequency\")\n",
    "legend = [\"30 people\", \"50 people\", \"70 people\"]\n",
    "plt.legend(legend)"
   ]
  },
  {
   "cell_type": "markdown",
   "metadata": {},
   "source": [
    "### Histograms for no. of exits in a room ###"
   ]
  },
  {
   "cell_type": "code",
   "execution_count": 212,
   "metadata": {},
   "outputs": [],
   "source": [
    "#1 exit in the room \n",
    "cts = []\n",
    "for i in range(1000):\n",
    "    c = 0\n",
    "    exit_test = Crowd_Egress(30,1,1,(10,10))\n",
    "    exit_test.initialize()\n",
    "    while np.count_nonzero(exit_test.room_setup) != 0:\n",
    "      exit_test.update()\n",
    "      c+=1\n",
    "    cts.append(c)"
   ]
  },
  {
   "cell_type": "code",
   "execution_count": 213,
   "metadata": {},
   "outputs": [],
   "source": [
    "#3 exits in the room \n",
    "cts1 = []\n",
    "for i in range(1000):\n",
    "    c = 0\n",
    "    exit_test = Crowd_Egress(30,3,1,(10,10))\n",
    "    exit_test.initialize()\n",
    "    while np.count_nonzero(exit_test.room_setup) != 0:\n",
    "      exit_test.update()\n",
    "      c+=1\n",
    "    cts1.append(c)"
   ]
  },
  {
   "cell_type": "code",
   "execution_count": 214,
   "metadata": {},
   "outputs": [],
   "source": [
    "#5 exits in the room \n",
    "cts2 = []\n",
    "for i in range(1000):\n",
    "    c = 0\n",
    "    exit_test = Crowd_Egress(30,5,1,(10,10))\n",
    "    exit_test.initialize()\n",
    "    while np.count_nonzero(exit_test.room_setup) != 0:\n",
    "      exit_test.update()\n",
    "      c+=1\n",
    "    cts2.append(c)"
   ]
  },
  {
   "cell_type": "code",
   "execution_count": 215,
   "metadata": {},
   "outputs": [
    {
     "data": {
      "text/plain": [
       "<matplotlib.legend.Legend at 0x1a1b7dc650>"
      ]
     },
     "execution_count": 215,
     "metadata": {},
     "output_type": "execute_result"
    },
    {
     "data": {
      "image/png": "[encoded data removed]",
      "text/plain": [
       "<Figure size 432x288 with 1 Axes>"
      ]
     },
     "metadata": {
      "needs_background": "light"
     },
     "output_type": "display_data"
    }
   ],
   "source": [
    "cs = [cts, cts1, cts2]\n",
    "plt.hist(cs, color = [\"orange\",\"blue\",\"red\"])\n",
    "plt.title(\"Effect of Number of Exits\")\n",
    "plt.ylabel(\"Frequency\")\n",
    "legend = [\"1 exit\", \"3 exits\", \"5 exits\"]\n",
    "plt.legend(legend)"
   ]
  },
  {
   "cell_type": "markdown",
   "metadata": {},
   "source": [
    "### Histogram for effects of exit size ###"
   ]
  },
  {
   "cell_type": "code",
   "execution_count": 196,
   "metadata": {},
   "outputs": [],
   "source": [
    "#exit size = 1\n",
    "t = []\n",
    "for i in range(1000):\n",
    "    c = 0\n",
    "    exitsize_test = Crowd_Egress(30,2,1,(10,10))\n",
    "    exitsize_test.initialize()\n",
    "    while np.count_nonzero(exitsize_test.room_setup) != 0:\n",
    "      exitsize_test.update()\n",
    "      c+=1\n",
    "    t.append(c)"
   ]
  },
  {
   "cell_type": "code",
   "execution_count": 197,
   "metadata": {},
   "outputs": [],
   "source": [
    "#exit size = 2\n",
    "t1 = []\n",
    "for i in range(1000):\n",
    "    c = 0\n",
    "    exitsize_test = Crowd_Egress(30,2,2,(10,10))\n",
    "    exitsize_test.initialize()\n",
    "    while np.count_nonzero(exitsize_test.room_setup) != 0:\n",
    "      exitsize_test.update()\n",
    "      c+=1\n",
    "    t1.append(c)"
   ]
  },
  {
   "cell_type": "code",
   "execution_count": 198,
   "metadata": {},
   "outputs": [],
   "source": [
    "#exit size = 3\n",
    "t2 = []\n",
    "for i in range(1000):\n",
    "    c = 0\n",
    "    exitsize_test = Crowd_Egress(30,2,3,(10,10))\n",
    "    exitsize_test.initialize()\n",
    "    while np.count_nonzero(exitsize_test.room_setup) != 0:\n",
    "      exitsize_test.update()\n",
    "      c+=1\n",
    "    t2.append(c)"
   ]
  },
  {
   "cell_type": "code",
   "execution_count": 217,
   "metadata": {},
   "outputs": [
    {
     "data": {
      "text/plain": [
       "<matplotlib.legend.Legend at 0x1a1adfff90>"
      ]
     },
     "execution_count": 217,
     "metadata": {},
     "output_type": "execute_result"
    },
    {
     "data": {
      "image/png": "[encoded data removed]",
      "text/plain": [
       "<Figure size 432x288 with 1 Axes>"
      ]
     },
     "metadata": {
      "needs_background": "light"
     },
     "output_type": "display_data"
    }
   ],
   "source": [
    "d = [t, t1, t2]\n",
    "plt.hist(d, color = [\"orange\",\"blue\",\"red\"])\n",
    "plt.title(\"Effect of Exit Sizes\")\n",
    "plt.ylabel(\"Frequency\")\n",
    "legend = [\"exit size = 1\", \"exit size = 2\", \"exit size = 3\"]\n",
    "plt.legend(legend)"
   ]
  },
  {
   "cell_type": "code",
   "execution_count": null,
   "metadata": {},
   "outputs": [],
   "source": []
  }
 ],
 "metadata": {
  "kernelspec": {
   "display_name": "Python 3",
   "language": "python",
   "name": "python3"
  },
  "language_info": {
   "codemirror_mode": {
    "name": "ipython",
    "version": 3
   },
   "file_extension": ".py",
   "mimetype": "text/x-python",
   "name": "python",
   "nbconvert_exporter": "python",
   "pygments_lexer": "ipython3",
   "version": "3.7.4"
  }
 },
 "nbformat": 4,
 "nbformat_minor": 4
}
